{
  "cells": [
    {
      "cell_type": "markdown",
      "metadata": {
        "id": "UZmVfVybbzMU"
      },
      "source": [
        "---\n",
        "# Welcome to CE880\n",
        "### This is your week-7 : Problem notebook\n",
        "\n",
        "For this problem set, we'll be using the Jupyter notebook and please upload this notebook to [Google Colab](https://colab.research.google.com/). "
      ]
    },
    {
      "cell_type": "markdown",
      "metadata": {
        "id": "7s2L54MybzMi"
      },
      "source": [
        "---\n",
        "## Question 1: \n",
        "\n",
        "#### Bootstrapping\n",
        "\n",
        "We are generating a random vector, which will be our population, whose law of distribution (expected to be the same as that of the population) is unknown. Write a function to pick a sample from our population and by applying the Bootstrapping procedure, where sample `size=300`: and `B=1000` number of re-sampling"
      ]
    },
    {
      "cell_type": "code",
      "execution_count": 1,
      "metadata": {
        "deletable": false,
        "nbgrader": {
          "cell_type": "code",
          "checksum": "005d99c1714e98b5079cbdc07c12a0b5",
          "grade": false,
          "grade_id": "my_bootstrapping_ans",
          "locked": false,
          "schema_version": 3,
          "solution": true,
          "task": false
        },
        "id": "j_cx9yxDbzMl",
        "colab": {
          "base_uri": "https://localhost:8080/"
        },
        "outputId": "aa525fd2-f179-4739-e26a-0e57f07da0ab"
      },
      "outputs": [
        {
          "output_type": "stream",
          "name": "stdout",
          "text": [
            "253.76\n"
          ]
        }
      ],
      "source": [
        "import numpy as np\n",
        "np.random.seed(123)\n",
        "pop = np.random.randint(0,500 , size=100)\n",
        "print(pop.mean()) # Print population mean\n",
        "sample = np.random.choice(pop, size=300) #so n=300\n",
        "def my_bootstrapping():\n",
        "    \"\"\"Write a function to pick a sample from our population and by applying the\n",
        "    Bootstrapping procedure, where sample size=300: and B=1000 number of re-sampling \"\"\"\n",
        "    # YOUR CODE HERE\n",
        "    sample_mean = []\n",
        "    for i in range(1000):\n",
        "      sample1 = np.random.choice(sample, size=300)\n",
        "      avg = np.mean(sample1)\n",
        "      sample_mean.append(avg)\n",
        "    print(np.mean(sample_mean))\n",
        "    return np.mean(sample_mean)\n",
        "    raise NotImplementedError()"
      ]
    },
    {
      "cell_type": "code",
      "execution_count": 2,
      "metadata": {
        "deletable": false,
        "editable": false,
        "nbgrader": {
          "cell_type": "code",
          "checksum": "a88c4bb109aa53b9b69cb81407e1697a",
          "grade": true,
          "grade_id": "my_bootstrapping_test",
          "locked": true,
          "points": 2,
          "schema_version": 3,
          "solution": false,
          "task": false
        },
        "id": "D60MdEUQbzMs",
        "colab": {
          "base_uri": "https://localhost:8080/"
        },
        "outputId": "898f0243-e00a-4721-b5bc-0663a92d598e"
      },
      "outputs": [
        {
          "output_type": "stream",
          "name": "stdout",
          "text": [
            "252.79019\n"
          ]
        }
      ],
      "source": [
        "# Check you solution by running this cell\n",
        "import math\n",
        "assert math.isclose(my_bootstrapping(), 253.241, rel_tol = 0.05)"
      ]
    },
    {
      "cell_type": "markdown",
      "metadata": {
        "id": "WBrC7otJbzMt"
      },
      "source": [
        "---\n",
        "## Question 2: \n",
        "\n",
        "#### Majority Voting\n",
        "Given a list = `[1,2,3,1,2,1,1,1,3,2,2,1]`. Write a function to find the majority voting."
      ]
    },
    {
      "cell_type": "code",
      "source": [
        "import collections\n",
        "a = np.array([1,2,3,1,2,1,1,1,3,2,2,1])\n",
        "\n",
        "def my_majorityvote(a):\n",
        "    \"\"\"Write a function to find the majority voting.\"\"\"\n",
        "    # YOUR CODE HERE\n",
        "    counter = collections.Counter(a)\n",
        "    majority = max(counter, key=counter.get)\n",
        "    return majority"
      ],
      "metadata": {
        "id": "jY6EjYDpNu74"
      },
      "execution_count": 37,
      "outputs": []
    },
    {
      "cell_type": "code",
      "execution_count": 3,
      "metadata": {
        "deletable": false,
        "nbgrader": {
          "cell_type": "code",
          "checksum": "0ae329697ba80e727456a21d0886468f",
          "grade": false,
          "grade_id": "my_pairedttest_ans",
          "locked": false,
          "schema_version": 3,
          "solution": true,
          "task": false
        },
        "id": "5vbI_jOabzMu"
      },
      "outputs": [],
      "source": [
        "# Example of the Paired Student's t-test\n",
        "a = np.array([1,2,3,1,2,1,1,1,3,2,2,1])\n",
        "\n",
        "def my_majorityvote():\n",
        "    \"\"\"Write a function to find the majority voting.\"\"\"\n",
        "    # YOUR CODE HERE\n",
        "    majority = None\n",
        "    majority_count = 0\n",
        "    for vote in a:\n",
        "        vote_count = 0\n",
        "        for other_vote in a:\n",
        "            if vote == other_vote:\n",
        "                vote_count += 1\n",
        "        if vote_count > majority_count:\n",
        "            majority = vote\n",
        "            majority_count = vote_count\n",
        "    print(majority)\n",
        "    return majority\n",
        "    raise NotImplementedError()"
      ]
    },
    {
      "cell_type": "code",
      "execution_count": 4,
      "metadata": {
        "deletable": false,
        "editable": false,
        "nbgrader": {
          "cell_type": "code",
          "checksum": "539ec2b0b6d14bd7fdbc0d2ba86a2b84",
          "grade": true,
          "grade_id": "my_pairedttest_test",
          "locked": true,
          "points": 2,
          "schema_version": 3,
          "solution": false,
          "task": false
        },
        "id": "T1sqNj9gbzMv",
        "colab": {
          "base_uri": "https://localhost:8080/"
        },
        "outputId": "c5774920-16ff-426a-95eb-fc71d670f5b5"
      },
      "outputs": [
        {
          "output_type": "stream",
          "name": "stdout",
          "text": [
            "1\n"
          ]
        }
      ],
      "source": [
        "# Check you solution by running this cell\n",
        "import math\n",
        "assert math.isclose(my_majorityvote(), 1, rel_tol = 0.05)"
      ]
    },
    {
      "cell_type": "markdown",
      "metadata": {
        "id": "E20wpMLibzMx"
      },
      "source": [
        "---\n",
        "## Question 3: \n",
        "\n",
        "#### Decision Tree\n",
        "USe the IRIS dataset from `sklearn` to build a decision tree classifier. The dataset contains information for three classes of the IRIS plant, namely IRIS Setosa, IRIS Versicolour, and IRIS Virginica, with the following attributes: sepal length, sepal width, petal length, and petal width. Your aim is to train a decision tree on training data and return the test accuracy."
      ]
    },
    {
      "cell_type": "code",
      "execution_count": 5,
      "metadata": {
        "deletable": false,
        "nbgrader": {
          "cell_type": "code",
          "checksum": "69192f23f1a94dcd4dd6b703633eccfc",
          "grade": false,
          "grade_id": "my_DTree_ans",
          "locked": false,
          "schema_version": 3,
          "solution": true,
          "task": false
        },
        "id": "tHV3fjzMbzMy"
      },
      "outputs": [],
      "source": [
        "import pandas as pd\n",
        "import numpy as np\n",
        "from sklearn.datasets import load_iris\n",
        "from sklearn.metrics import accuracy_score\n",
        "from sklearn.tree import DecisionTreeClassifier\n",
        "\n",
        "# Reading the Iris.csv file\n",
        "data = load_iris()\n",
        "\n",
        "# Extracting Attributes / Features\n",
        "X = data.data\n",
        "\n",
        "# Extracting Target / Class Labels\n",
        "y = data.target\n",
        "\n",
        "# Import Library for splitting data\n",
        "from sklearn.model_selection import train_test_split\n",
        "\n",
        "# Creating Train and Test datasets\n",
        "X_train, X_test, y_train, y_test = train_test_split(X,y, random_state = 50, test_size = 0.25)\n",
        "\n",
        "def my_DTree():\n",
        "    \"\"\"Write code to to train a decision tree classifier and return the test accuracy\"\"\"\n",
        "    # YOUR CODE HERE\n",
        "    # instantiate the DecisionTreeClassifier model with criterion gini index\n",
        "    clf_gini = DecisionTreeClassifier(criterion='gini', max_depth=3, random_state=0)\n",
        "    # fit the model\n",
        "    clf_gini.fit(X_train, y_train)\n",
        "    y_pred_gini = clf_gini.predict(X_test)\n",
        "    score = accuracy_score(y_test, y_pred_gini)\n",
        "    print('Model accuracy score with criterion gini index: {0:0.4f}'. format(accuracy_score(y_test, y_pred_gini)))\n",
        "    return score\n",
        "    raise NotImplementedError()"
      ]
    },
    {
      "cell_type": "code",
      "execution_count": 6,
      "metadata": {
        "deletable": false,
        "editable": false,
        "nbgrader": {
          "cell_type": "code",
          "checksum": "e56689327ed8c774d916ab7440966ee7",
          "grade": true,
          "grade_id": "my_DTree_test",
          "locked": true,
          "points": 2,
          "schema_version": 3,
          "solution": false,
          "task": false
        },
        "id": "M4oz_m5EbzM1",
        "colab": {
          "base_uri": "https://localhost:8080/"
        },
        "outputId": "7f28e545-c9d8-452e-aa72-4a0592a1e938"
      },
      "outputs": [
        {
          "output_type": "stream",
          "name": "stdout",
          "text": [
            "Model accuracy score with criterion gini index: 0.9474\n"
          ]
        }
      ],
      "source": [
        "# Check you solution by running this cell\n",
        "import math\n",
        "assert math.isclose(my_DTree(), 0.94736, rel_tol = 0.05)"
      ]
    },
    {
      "cell_type": "code",
      "execution_count": null,
      "metadata": {
        "id": "9xPFN7t6bzM2"
      },
      "outputs": [],
      "source": []
    }
  ],
  "metadata": {
    "kernelspec": {
      "display_name": "Python 3",
      "language": "python",
      "name": "python3"
    },
    "language_info": {
      "codemirror_mode": {
        "name": "ipython",
        "version": 3
      },
      "file_extension": ".py",
      "mimetype": "text/x-python",
      "name": "python",
      "nbconvert_exporter": "python",
      "pygments_lexer": "ipython3",
      "version": "3.7.10"
    },
    "colab": {
      "provenance": []
    }
  },
  "nbformat": 4,
  "nbformat_minor": 0
}