{
  "cells": [
    {
      "cell_type": "markdown",
      "metadata": {
        "id": "R1VRMmXimiw4"
      },
      "source": [
        "---\n",
        "# Welcome to CE880\n",
        "### This is your week-10 : Problem notebook\n",
        "\n",
        "For this problem set, we'll be using the Jupyter notebook and please upload this notebook to [Google Colab](https://colab.research.google.com/). \n",
        "\n",
        "Paris Housing is a set of data created from imaginary data of house prices in an urban environment. \n",
        "https://github.com/sagihaider/CE880_2021/blob/main/Data/ParisHousingClass.csv \n",
        "\n",
        "All attributes are numeric variables and they are listed bellow:\n",
        "* squareMeters\n",
        "* numberOfRooms\n",
        "* hasYard\n",
        "* hasPool\n",
        "* floors - number of floors\n",
        "* cityCode - zip code\n",
        "* cityPartRange - the higher the range, the more exclusive the neighbourhood is\n",
        "* numPrevOwners - number of prevoious owners\n",
        "* made - year\n",
        "* isNewBuilt\n",
        "* hasStormProtector\n",
        "* basement - basement square meters\n",
        "* attic - attic square meteres\n",
        "* garage - garage size\n",
        "* hasStorageRoom\n",
        "* hasGuestRoom - number of guest rooms\n",
        "* price - price of a house\n",
        "* category - Luxury or Basic"
      ]
    },
    {
      "cell_type": "code",
      "execution_count": 2,
      "metadata": {
        "colab": {
          "base_uri": "https://localhost:8080/"
        },
        "id": "008kjlDVmixD",
        "outputId": "f50a3400-6443-4d9f-a25b-3d599d574b3b"
      },
      "outputs": [
        {
          "output_type": "stream",
          "name": "stdout",
          "text": [
            "              numberOfRooms  hasYard  hasPool  floors  cityCode  \\\n",
            "squareMeters                                                      \n",
            "75523                     3        0        1      63      9373   \n",
            "80771                    39        1        1      98     39381   \n",
            "55712                    58        0        1      19     34457   \n",
            "32316                    47        0        0       6     27939   \n",
            "70429                    19        1        1      90     38045   \n",
            "\n",
            "              cityPartRange  numPrevOwners  made  isNewBuilt  \\\n",
            "squareMeters                                                   \n",
            "75523                     3              8  2005           0   \n",
            "80771                     8              6  2015           1   \n",
            "55712                     6              8  2021           0   \n",
            "32316                    10              4  2012           0   \n",
            "70429                     3              7  1990           1   \n",
            "\n",
            "              hasStormProtector  basement  attic  garage  hasStorageRoom  \\\n",
            "squareMeters                                                               \n",
            "75523                         1      4313   9005     956               0   \n",
            "80771                         0      3653   2436     128               1   \n",
            "55712                         0      2937   8852     135               1   \n",
            "32316                         1       659   7141     359               0   \n",
            "70429                         0      8435   2429     292               1   \n",
            "\n",
            "              hasGuestRoom      price category  \n",
            "squareMeters                                    \n",
            "75523                    7  7559081.5    Basic  \n",
            "80771                    2  8085989.5   Luxury  \n",
            "55712                    9  5574642.1    Basic  \n",
            "32316                    3  3232561.2    Basic  \n",
            "70429                    4  7055052.0   Luxury  \n"
          ]
        }
      ],
      "source": [
        "import numpy as np \n",
        "import pandas as pd \n",
        "url = 'https://raw.githubusercontent.com/sagihaider/CE880_2021/main/Data/ParisHousingClass.csv'\n",
        "trainData = pd.read_csv(url,index_col=0)\n",
        "print(trainData.head())"
      ]
    },
    {
      "cell_type": "code",
      "execution_count": 3,
      "metadata": {
        "colab": {
          "base_uri": "https://localhost:8080/"
        },
        "id": "6ZSwoXg5mixG",
        "outputId": "367980bd-0a6d-43d0-8538-22178290d71e"
      },
      "outputs": [
        {
          "output_type": "stream",
          "name": "stdout",
          "text": [
            "category ['Basic' 'Luxury']\n"
          ]
        }
      ],
      "source": [
        "from sklearn.preprocessing import LabelEncoder\n",
        "\n",
        "def label_encoded(feat):\n",
        "    le=LabelEncoder()\n",
        "    le.fit(feat)\n",
        "    print(feat.name,le.classes_)\n",
        "    return le.transform(feat)\n",
        "trainData['category']=label_encoded(trainData['category'])"
      ]
    },
    {
      "cell_type": "code",
      "execution_count": 4,
      "metadata": {
        "id": "JoDUdfNomixH"
      },
      "outputs": [],
      "source": [
        "from sklearn.model_selection import train_test_split,GridSearchCV\n",
        "\n",
        "y=trainData['category']\n",
        "x=trainData.drop('category',axis=1)\n",
        "xtrain,xtest,ytrain,ytest=train_test_split(x,y,test_size=0.2,random_state=42)"
      ]
    },
    {
      "cell_type": "markdown",
      "metadata": {
        "id": "vN63s-EBmixI"
      },
      "source": [
        "---\n",
        "## Question 1: \n",
        "\n",
        "#### Classification\n",
        "Use the dataset, which I have spilted into training and test sets (xtrain, xtest, ytrain, ytest), please train the machine learning model to get the test accuracy of 100%. You are free to use any classication model such as Decision Tree, Random Forest, KNN, SVM..etc. \n",
        "\n",
        "Hint: Please use grid search to find a best model using different parameters. "
      ]
    },
    {
      "cell_type": "code",
      "source": [
        "from sklearn.pipeline import Pipeline\n",
        "from sklearn.neighbors import KNeighborsClassifier\n",
        "from sklearn.ensemble import RandomForestClassifier\n",
        "from sklearn.tree import DecisionTreeClassifier\n",
        "from xgboost import XGBClassifier\n",
        "\n",
        "param_range = [3, 5, 7, 10]\n",
        "param_range_1 = [1.0, 0.5, 0.1]\n",
        "n_estimators = [50,100,150]\n",
        "learning_rates = [.1,.2,.3]\n",
        "\n",
        "pipe_dt = Pipeline([('DT',DecisionTreeClassifier(random_state=42))])\n",
        "pipe_rf = Pipeline([('RF',RandomForestClassifier(random_state=42))])\n",
        "pipe_knn = Pipeline([('KNN', KNeighborsClassifier())])\n",
        "pipe_xgb = Pipeline([('XGB', XGBClassifier(random_state=42))])\n",
        "\n",
        "dt_param_grid = [{'DT__criterion': ['gini', 'entropy'],\n",
        "                   'DT__min_samples_leaf': param_range,\n",
        "                   'DT__max_depth': param_range,\n",
        "                   'DT__min_samples_split': param_range[1:]}]\n",
        "rf_param_grid = [{'RF__min_samples_leaf': param_range,\n",
        "                   'RF__max_depth': param_range,\n",
        "                   'RF__min_samples_split': param_range[1:]}]\n",
        "knn_param_grid = [{'KNN__n_neighbors': param_range,\n",
        "                   'KNN__metric': ['euclidean', 'manhattan']}]\n",
        "xgb_param_grid = [{'XGB__max_depth': param_range,\n",
        "                    'XGB__min_child_weight': param_range[:2],\n",
        "                    'XGB__n_estimators': n_estimators}]\n",
        "\n",
        "dt_grid_search = GridSearchCV(estimator=pipe_dt,\n",
        "        param_grid=dt_param_grid,\n",
        "        scoring='accuracy',\n",
        "        cv=3)\n",
        "rf_grid_search = GridSearchCV(estimator=pipe_rf,\n",
        "        param_grid=rf_param_grid,\n",
        "        scoring='accuracy',\n",
        "        cv=3)\n",
        "knn_grid_search = GridSearchCV(estimator=pipe_knn,\n",
        "        param_grid=knn_param_grid,\n",
        "        scoring='accuracy',\n",
        "        cv=3)\n",
        "\n",
        "xgb_grid_search = GridSearchCV(estimator=pipe_xgb,\n",
        "        param_grid=xgb_param_grid,\n",
        "        scoring='accuracy',\n",
        "        cv=3)\n",
        "\n",
        "grids = [dt_grid_search, rf_grid_search, knn_grid_search, xgb_grid_search]\n",
        "for pipe in grids:\n",
        "    pipe.fit(xtrain, ytrain)"
      ],
      "metadata": {
        "id": "QYDyGcZ1t4_2"
      },
      "execution_count": 5,
      "outputs": []
    },
    {
      "cell_type": "code",
      "source": [
        "grid_dict = {0: 'Decision Trees', \n",
        "             1: 'Random Forest', 2: 'K-Nearest Neighbors', 3: 'XGBoost'}\n",
        "for i, model in enumerate(grids):\n",
        "    print('{} Test Accuracy: {}'.format(grid_dict[i],\n",
        "    model.score(xtest,ytest)))\n",
        "    print('{} Best Params: {}'.format(grid_dict[i],\n",
        "                                      model.best_params_))"
      ],
      "metadata": {
        "colab": {
          "base_uri": "https://localhost:8080/"
        },
        "id": "HsrqLdHouflI",
        "outputId": "f57bfb2f-a642-48a6-ea0b-d3223f23e254"
      },
      "execution_count": 7,
      "outputs": [
        {
          "output_type": "stream",
          "name": "stdout",
          "text": [
            "Decision Trees Test Accuracy: 1.0\n",
            "Decision Trees Best Params: {'DT__criterion': 'gini', 'DT__max_depth': 3, 'DT__min_samples_leaf': 3, 'DT__min_samples_split': 5}\n",
            "Random Forest Test Accuracy: 1.0\n",
            "Random Forest Best Params: {'RF__max_depth': 7, 'RF__min_samples_leaf': 3, 'RF__min_samples_split': 5}\n",
            "K-Nearest Neighbors Test Accuracy: 0.871\n",
            "K-Nearest Neighbors Best Params: {'KNN__metric': 'euclidean', 'KNN__n_neighbors': 10}\n",
            "XGBoost Test Accuracy: 1.0\n",
            "XGBoost Best Params: {'XGB__max_depth': 3, 'XGB__min_child_weight': 3, 'XGB__n_estimators': 50}\n"
          ]
        }
      ]
    },
    {
      "cell_type": "code",
      "execution_count": 8,
      "metadata": {
        "deletable": false,
        "nbgrader": {
          "cell_type": "code",
          "checksum": "7d59a986a353bb89559cb1ff0cf34516",
          "grade": false,
          "grade_id": "my_model_ans",
          "locked": false,
          "schema_version": 3,
          "solution": true,
          "task": false
        },
        "id": "nUVa_unYmixK"
      },
      "outputs": [],
      "source": [
        "from sklearn import metrics\n",
        "def my_model(xtrain,xtest,ytrain,ytest):\n",
        "    \"\"\"Write a function to train a machine learning model to get the test accuracy of 100%. \n",
        "    You are free to use any classication model such as Decision Tree, \n",
        "    Random Forest, KNN, SVM..etc. \"\"\"\n",
        "    # YOUR CODE HERE\n",
        "    xgb_clf = XGBClassifier(random_state=42, max_depth = 3, min_child_weight = 3, n_estimators = 50)\n",
        "    # Fit the classifier to the training data\n",
        "    xgb_clf.fit(xtrain, ytrain)\n",
        "    ypred = xgb_clf.predict(xtest)\n",
        "    score = metrics.accuracy_score(ytest, ypred)*100\n",
        "    return score\n",
        "    raise NotImplementedError()\n",
        "\n"
      ]
    },
    {
      "cell_type": "code",
      "execution_count": 10,
      "metadata": {
        "deletable": false,
        "editable": false,
        "nbgrader": {
          "cell_type": "code",
          "checksum": "b15a8a354453f7e99cb9fa5a6cb0b977",
          "grade": true,
          "grade_id": "my_model_test",
          "locked": true,
          "points": 9,
          "schema_version": 3,
          "solution": false,
          "task": false
        },
        "id": "zXjRBLlTmixL"
      },
      "outputs": [],
      "source": [
        "# Check you solution by running this cell\n",
        "import math\n",
        "assert math.isclose(my_model(xtrain,xtest,ytrain,ytest), 100.0, rel_tol = 0.05)"
      ]
    },
    {
      "cell_type": "code",
      "execution_count": null,
      "metadata": {
        "id": "WuWEYI7FmixM"
      },
      "outputs": [],
      "source": []
    }
  ],
  "metadata": {
    "kernelspec": {
      "display_name": "Python 3",
      "language": "python",
      "name": "python3"
    },
    "language_info": {
      "codemirror_mode": {
        "name": "ipython",
        "version": 3
      },
      "file_extension": ".py",
      "mimetype": "text/x-python",
      "name": "python",
      "nbconvert_exporter": "python",
      "pygments_lexer": "ipython3",
      "version": "3.7.10"
    },
    "colab": {
      "provenance": []
    }
  },
  "nbformat": 4,
  "nbformat_minor": 0
}